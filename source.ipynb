{
 "cells": [
  {
   "cell_type": "code",
   "execution_count": 2,
   "metadata": {},
   "outputs": [],
   "source": [
    "import pandas as pd\n",
    "import numpy as np\n",
    "\n",
    "from scipy import stats\n",
    "\n",
    "import xgboost as xgb\n",
    "from sklearn.model_selection import train_test_split\n",
    "from sklearn.metrics import roc_auc_score\n"
   ]
  },
  {
   "cell_type": "code",
   "execution_count": null,
   "metadata": {},
   "outputs": [],
   "source": [
    "# Data Directory\n",
    "data_dir = 'dataset/'\n",
    "\n",
    "# Load the data\n",
    "train_1 = pd.read_csv(data_dir + 'train_1.csv')\n",
    "train_2_1 = pd.read_csv(data_dir + 'train_2_1.csv')\n",
    "train_2_2 = pd.read_csv(data_dir + 'train_2_2.csv')\n",
    "test_1 = pd.read_csv(data_dir + 'test_1.csv')\n",
    "test_2_1 = pd.read_csv(data_dir + 'test_2_1.csv')\n",
    "test_2_2 = pd.read_csv(data_dir + 'test_2_2.csv')"
   ]
  },
  {
   "cell_type": "code",
   "execution_count": null,
   "metadata": {},
   "outputs": [],
   "source": []
  }
 ],
 "metadata": {
  "kernelspec": {
   "display_name": ".venv",
   "language": "python",
   "name": "python3"
  },
  "language_info": {
   "codemirror_mode": {
    "name": "ipython",
    "version": 3
   },
   "file_extension": ".py",
   "mimetype": "text/x-python",
   "name": "python",
   "nbconvert_exporter": "python",
   "pygments_lexer": "ipython3",
   "version": "3.11.9"
  }
 },
 "nbformat": 4,
 "nbformat_minor": 2
}
